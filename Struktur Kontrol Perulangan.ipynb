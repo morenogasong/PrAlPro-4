{
  "nbformat": 4,
  "nbformat_minor": 0,
  "metadata": {
    "colab": {
      "provenance": []
    },
    "kernelspec": {
      "name": "python3",
      "display_name": "Python 3"
    },
    "language_info": {
      "name": "python"
    }
  },
  "cells": [
    {
      "cell_type": "markdown",
      "source": [
        "**Latihan 5.1** Buatlah program yang menerapkan perhitungan perkalian dengan menggunakan penjumlahan. Buatlah fungsi perkalian() dalam program tersebut! Berikut ini adalah beberapa contoh perhitungan yang diharapkan:\n",
        "\n",
        "• 6 x 5 = 5 + 5 + 5 + 5 + 5 + 5 = 30.\n",
        "\n",
        "• 7 x 10 = 10 + 10 + 10 + 10 + 10 + 10 + 10 = 70.\n"
      ],
      "metadata": {
        "id": "XJjed-bUAac4"
      }
    },
    {
      "cell_type": "code",
      "source": [
        "def perkalian(a, b):\n",
        "    hasil = 0\n",
        "    if a < 0:\n",
        "        a = -a\n",
        "        b = -b\n",
        "    for i in range(a):\n",
        "        hasil += b\n",
        "    print (hasil)\n",
        "\n",
        "perkalian(6,5)\n",
        "perkalian(7,10)"
      ],
      "metadata": {
        "colab": {
          "base_uri": "https://localhost:8080/"
        },
        "id": "oEuOG-WBAhfk",
        "outputId": "b588a701-0dd1-495d-e6e0-995fc52124f2"
      },
      "execution_count": 1,
      "outputs": [
        {
          "output_type": "stream",
          "name": "stdout",
          "text": [
            "30\n",
            "70\n"
          ]
        }
      ]
    },
    {
      "cell_type": "markdown",
      "source": [
        "**Latihan 5.2** Buatlah program yang dapat menampilkan deret bilangan ganjil dari batas bawah dan batas atas yang diberikan oleh pengguna. Jika ternyata batas atas < batas bawah, berarti deret tersebut dimulai dari batas atas, sampai batas bawah (negatif range). Buatlah fungsi ganjil() dalam program tersebut! Berikut ini adalah contoh hasil yang diharapkan:\n",
        "\n",
        "•\t*bawah = 10, atas = 30*. Karena bawah < atas, berarti dari kecil ke besar, maka hasilnya adalah: 11, 13, 15, 17, 19, 21, 23, 25, 27, 29.\n",
        "\n",
        "•\t*bawah = 97, atas = 82*. Karena bawah > atas, berarti dari besar ke kecil, maka hasilnya adalah: 97, 95, 93, 91, 89, 87, 85, 83.\n"
      ],
      "metadata": {
        "id": "72zvwIxJApxI"
      }
    },
    {
      "cell_type": "code",
      "source": [
        "bawah = int(input(\"Masukkan batas bawah: \"))\n",
        "atas = int(input(\"Masukkan batas atas: \"))\n",
        "\n",
        "def ganjil(bawah, atas):\n",
        "    if bawah < atas:\n",
        "        for i in range(bawah, atas + 1):\n",
        "            if i % 2 != 0:\n",
        "                print(i, end=\" \")\n",
        "    else:\n",
        "        for i in range(bawah, atas - 1, -1):\n",
        "            if i % 2 != 0:\n",
        "                print(i, end=\" \")\n",
        "\n",
        "print(\"Deret bilangan ganjil:\")\n",
        "ganjil(bawah, atas)\n"
      ],
      "metadata": {
        "colab": {
          "base_uri": "https://localhost:8080/"
        },
        "id": "mmhELLbmA2Zr",
        "outputId": "45277748-92f0-4a26-c3ca-39355d61c04d"
      },
      "execution_count": 2,
      "outputs": [
        {
          "output_type": "stream",
          "name": "stdout",
          "text": [
            "Masukkan batas bawah: 97\n",
            "Masukkan batas atas: 82\n",
            "Deret bilangan ganjil:\n",
            "97 95 93 91 89 87 85 83 "
          ]
        }
      ]
    },
    {
      "cell_type": "markdown",
      "source": [
        "**Latihan 5.3** Buatlah sebuah program penghitung nilai Indeks Prestasi Semester (IPS). Input bagi program:\n",
        "\n",
        "•\tJumlah mata kuliah\n",
        "\n",
        "•\tNilai A, B, C, dan D untuk setiap mata kuliah mahasiswa. Diasumsikan sks setiap mata kuliah selalu 3. Kemudian bobot dari masing-masing nilai adalah: A=4, B=3, C=2, D=1.\n",
        "\n",
        "Output program ialah hasil IPS yang didapatkan. Jalannya program seperti pada Gambar 5.7. Tips: Gunakan kontrol percabangan di dalam perulangan.\n"
      ],
      "metadata": {
        "id": "73wEJS4nBAmi"
      }
    },
    {
      "cell_type": "code",
      "source": [
        "def hitung_ips(jumlah_mata_kuliah):\n",
        "    total_sks = 0\n",
        "    total_bobot_nilai = 0\n",
        "\n",
        "    for i in range(jumlah_mata_kuliah):\n",
        "        nilai = input(\"Masukkan nilai untuk mata kuliah ke-{} (A/B/C/D): \".format(i + 1))\n",
        "        sks = 3\n",
        "\n",
        "        if nilai == \"A\":\n",
        "            bobot_nilai = 4\n",
        "        elif nilai == \"B\":\n",
        "            bobot_nilai = 3\n",
        "        elif nilai == \"C\":\n",
        "            bobot_nilai = 2\n",
        "        elif nilai == \"D\":\n",
        "            bobot_nilai = 1\n",
        "        else:\n",
        "            print(\"Nilai tidak valid. Harap masukkan nilai A, B, C, atau D.\")\n",
        "            continue\n",
        "\n",
        "        total_sks += sks\n",
        "        total_bobot_nilai += sks * bobot_nilai\n",
        "\n",
        "    ips = total_bobot_nilai / total_sks\n",
        "    return ips\n",
        "\n",
        "jumlah_mata_kuliah = int(input(\"Masukkan jumlah mata kuliah: \"))\n",
        "hasil_ips = hitung_ips(jumlah_mata_kuliah)\n",
        "print(\"Indeks Prestasi Semester (IPS) Anda adalah: {:.2f}\".format(hasil_ips))\n"
      ],
      "metadata": {
        "colab": {
          "base_uri": "https://localhost:8080/"
        },
        "id": "Qcngr6T_BJyv",
        "outputId": "8b726453-3516-4f60-8d68-8c3570f771bc"
      },
      "execution_count": 3,
      "outputs": [
        {
          "output_type": "stream",
          "name": "stdout",
          "text": [
            "Masukkan jumlah mata kuliah: 6\n",
            "Masukkan nilai untuk mata kuliah ke-1 (A/B/C/D): A\n",
            "Masukkan nilai untuk mata kuliah ke-2 (A/B/C/D): B\n",
            "Masukkan nilai untuk mata kuliah ke-3 (A/B/C/D): C\n",
            "Masukkan nilai untuk mata kuliah ke-4 (A/B/C/D): A\n",
            "Masukkan nilai untuk mata kuliah ke-5 (A/B/C/D): D\n",
            "Masukkan nilai untuk mata kuliah ke-6 (A/B/C/D): C\n",
            "Indeks Prestasi Semester (IPS) Anda adalah: 2.67\n"
          ]
        }
      ]
    }
  ]
}